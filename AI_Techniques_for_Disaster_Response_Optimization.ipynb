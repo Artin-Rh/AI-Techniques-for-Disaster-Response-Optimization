{
  "cells": [
    {
      "cell_type": "markdown",
      "id": "0ccacecb",
      "metadata": {
        "id": "0ccacecb"
      },
      "source": [
        "# **AI Techniques for Disaster Response Optimization**\n",
        "\n",
        "This project explores multiple AI techniques to optimize disaster response operations. It applies genetic algorithms, ant colony optimization, game theory, and Bayesian networks to model intelligent decision-making in emergency scenarios.\n",
        "\n",
        "\n",
        "## **Introduction**\n",
        "\n",
        "In large-scale disaster scenarios such as earthquakes or wildfires, **effective decision-making and path planning** are crucial for minimizing casualties and ensuring rapid response. This project applies multiple **Artificial Intelligence techniques** to optimize disaster response operations by simulating **multi-agent coordination, resource allocation, and decision-making under uncertainty**.\n",
        "\n",
        "### **Key AI Techniques Used**\n",
        "This project integrates several AI approaches to improve emergency response strategies:\n",
        "\n",
        "1. **Ant Colony Optimization (ACO)**  \n",
        "   - Simulates emergency vehicles navigating through disaster-affected areas.  \n",
        "   - Uses **pheromone-based reinforcement learning** to identify optimal routes.  \n",
        "\n",
        "2. **Genetic Algorithms (GA)**  \n",
        "   - Evolves efficient travel paths over multiple generations.  \n",
        "   - Uses selection, crossover, and mutation to improve search strategies.  \n",
        "\n",
        "3. **Minimax Algorithm with Alpha-Beta Pruning**  \n",
        "   - Models decision-making for allocating rescue teams efficiently.  \n",
        "   - Uses a **game tree search** to optimize resource deployment.  \n",
        "\n",
        "4. **Game Theory (Nash Equilibrium)**  \n",
        "   - Determines optimal strategies for coordinating multiple response units.  \n",
        "   - Models interactions between rescue teams to prevent resource conflicts.  \n",
        "\n",
        "5. **Bayesian Networks**  \n",
        "   - Models uncertain disaster conditions (e.g., fire spread, road blockages).  \n",
        "   - Uses **probabilistic reasoning** to improve situational awareness.  \n",
        "\n",
        "### **Objective of This Project**\n",
        "- Develop AI-powered decision-making tools for disaster response.  \n",
        "- Simulate **multi-agent coordination** in a crisis scenario.  \n",
        "- Improve **route optimization** for emergency vehicles.  \n",
        "- Use **AI models** to make strategic rescue decisions under uncertainty.  \n",
        "\n",
        "By combining these AI techniques, this project **mimics real-world disaster response operations**, making it an excellent foundation for practical AI applications in **emergency management, logistics, and smart city planning**."
      ]
    },
    {
      "cell_type": "markdown",
      "id": "9220620f",
      "metadata": {
        "id": "9220620f"
      },
      "source": [
        "## Simulation Scenario\n",
        "\n",
        "An earthquake has struck NovaCity, causing widespread destruction, including fires, and road blockages. Emergency response teams need to be coordinated for rescue operations.\n",
        "\n",
        "The city is divided into **5 regions (R1 to R5)**. Each region has an evaluated **damage level** according to its blocked roads and fires:\n",
        "- High damage (H): $>=50\\%$ roads blocked, or $>=30\\%$ fires;\n",
        "- Medium damage (M): $[10\\%, 50\\%)$ roads blocked, or $[10\\%, 30\\%)$ fires; and\n",
        "- Low damage (L): $<10\\%$ roads blocked, or $<10\\%$ fires.\n",
        "\n",
        "Either blocked roads or fires that reach the range can be considered its damage level. For example, a region with 30\\% road blocks and 5\\% fires is Medium damaged.\n",
        "\n",
        "The **initial damage** to each region is provided:\n",
        "- R1 (H): 60\\% roads blocked, 35\\% fires;\n",
        "- R2 (M): 40\\% roads blocked, 25\\% fires;\n",
        "- R3 (M): 15\\% roads blocked, 5\\% fires;\n",
        "- R4 (H): 35\\% roads blocked, 30\\% fires; and\n",
        "- R5 (L): 5\\% roads blocked, 3\\% fires.\n",
        "\n",
        "Assume all regions are of equal size to simplify the modelling process. Each region is modelled as a **node** in a graph, and predefined **distances** between regions (e.g., 5 km between R1 and R2, 3 km between R2 and R3) are detailed: R1 -- R2: 5 km, R1 -- R3: 7 km, R1 -- R4: 4 km, R1 -- R5: 6 km, R2 -- R3: 3 km, R2 -- R4: 4 km, R2 -- R5: 8 km, R3 -- R4: 5 km, R3 -- R5: 6 km, and R4 -- R5: 4 km.\n",
        "\n",
        "During the rescue, each region will continue to experience fire spread and aftershocks. Fires spread every 10 minutes within the same region, increasing the fire percentage by 10\\%. Aftershocks occur randomly every 15 minutes increasing road blockages by 10\\% over all regions. For example, in R1, the initial damage is 60\\% roads blocked and 35\\% fires. After 10 minutes, it becomes $(60\\%, 45\\%)$, and after an additional 5 minutes, it becomes $(70\\%, 45\\%)$ if no rescue operations are performed.\n",
        "\n",
        "Rescue agents are distributed across regions at the start of the simulation. **Eight units of fire trucks start at R2.** Each fire truck unit decreases fire percentage by 10\\% per rescue operation. **Six units of police start at R4.** Each police unit decreases road blockages by 10\\% per rescue operation. Multiple agents/units can perform rescue operations at the same time in the same region. The effects of their actions are cumulative. For example, if 2 fire trucks are deployed to R1 simultaneously, the fire percentage decreases by 20\\% in one operation. Rescue operations affect the regional damage directly. If a fire truck reduces fire percentage by 10\\%, that 10\\% decrease is applied to the overall fire damage in that region, e.g., $20\\%-10\\%=10\\%$.\n",
        "\n",
        "**Assumption:** Both rescue operations and disaster events (fire spread and aftershocks) do not consume time in this simulation, but each unit can only perform rescue once when visiting the region. Rescue agents will not lose resources along a path, and all operations will occur instantly for the purpose of modelling. However, the effects of disasters and rescues will still be cumulative over time. Rescue agents aim to follow a path that covers all regions, ensuring each region is visited only once. After completing their assigned rescue tasks along the path, they must return to their starting point for a refill.\n",
        "\n",
        "**Travel Speed:** Rescue agents can travel at a maximum speed of 60 km/h on unblocked roads. If roads are blocked, their speed will be reduced according to the percentage of blocked roads in the region they are traveling to or from. The travel speed between two regions is determined by the average percentage of blocked roads in both regions. For example, if R1 has 60\\% blocked roads and R2 has 40\\% blocked roads, the average blocked road percentage is $(60\\% + 40\\%) / 2 = 50\\%$. The travel speed will then be reduced by 50\\%, resulting in a travel speed of 30 km/h. Rescue agents won’t block each other. Fire damage will not affect travel speed.\n",
        "\n",
        "Rescue operations must be completed within 90 minutes and the sooner the better. You need to allocate resources efficiently, prioritize critical regions, and adapt to changing conditions like fire spread and aftershocks. Rescue agents must quickly respond to new blockages and worsening fires, adjusting strategies to minimize delays."
      ]
    },
    {
      "cell_type": "markdown",
      "id": "cdb497f8",
      "metadata": {
        "id": "cdb497f8"
      },
      "source": [
        "# Overall Design"
      ]
    },
    {
      "cell_type": "markdown",
      "id": "2f5f622f",
      "metadata": {
        "id": "2f5f622f"
      },
      "source": [
        "The goal of this project is to simulate and optimize the coordinated response to an earthquake in NovaCity using a multi-method AI approach. This involves the strategic deployment of fire trucks and police units to control fire spread and clear blocked roads, respectively. The design integrates genetic algorithms, ant colony optimization, the Minmax algorithm with alpha-beta pruning, game theory, and Bayesian networks to create an interconnected system that adapts to evolving conditions. Each task contributes data and insights to others, forming a cohesive, iterative process that ensures optimal decision-making throughout the simulation."
      ]
    },
    {
      "cell_type": "markdown",
      "id": "3fffb734",
      "metadata": {
        "id": "3fffb734"
      },
      "source": [
        "## Task Breakdown\n",
        "\n",
        "### Task 1: ACO for Multi-Agent Coordination\n",
        "\n",
        "**Goal**: Coordinate rescue units effectively by simulating how they choose paths, optimizing resource allocation, and responding to real-time changes like road blockages and fires.\n",
        "\n",
        "**Integration:**\n",
        "\n",
        "- Input: Initial region data, road blockage and fire percentages, predefined distances.\n",
        "\n",
        "- Output: Optimized rescue paths for agents with updated pheromone trails based on travel outcomes.\n",
        "\n",
        "- Next Step: Use these optimized paths as the initial population in Task 1 (Genetic Algorithms).\n",
        "\n",
        "### Task 2: Genetic Algorithms for Path Optimization\n",
        "\n",
        "**Goal**: Evolve the initial population of rescue paths to minimize overall rescue time and ensure efficient region coverage.\n",
        "\n",
        "**Integration:**\n",
        "\n",
        "- Input: Paths generated from ACO with pheromone levels indicating suitability.\n",
        "\n",
        "- Output: Optimized path sequences for agents that account for road blockages and fire levels.\n",
        "\n",
        "- Next Step: Provide these paths to Task 3 (Minmax Algorithm) for strategic analysis.\n",
        "\n",
        "### Task 3: Minmax Algorithm with Alpha-Beta Pruning\n",
        "\n",
        "**Goal**: Improve decision-making by evaluating rescue strategies against the potential spread of fires and occurrence of aftershocks.\n",
        "\n",
        "**Integration:**\n",
        "\n",
        "- Input: Optimized paths from the genetic algorithm, data on fire spread and aftershock probabilities.\n",
        "\n",
        "- Output: Refined strategy recommendations for the deployment of agents, including unit allocation.\n",
        "\n",
        "- Next Step: Utilize the strategy for resource allocation modeling in Task 4 (Game Theory).\n",
        "\n",
        "### Task 4: Game Theory for Multi-Agent Systems\n",
        "\n",
        "**Goal**: Model resource allocation strategies using game theory concepts to maximize success in uncertain conditions.\n",
        "\n",
        "**Integration:**\n",
        "\n",
        "- Input: Strategy outputs from the Minmax algorithm.\n",
        "\n",
        "- Output: Optimal resource distribution strategies, potentially finding Nash equilibria or dominant strategies.\n",
        "\n",
        "- Next Step: Feed these strategies into Task 5 (Bayesian Networks) for handling uncertainties.\n",
        "\n",
        "### Task 5: Bayesian Networks for Uncertain Inferences\n",
        "\n",
        "**Goal**: Use Bayesian networks to manage uncertainty and improve decision-making when dealing with dynamic elements such as fire spread and aftershocks.\n",
        "\n",
        "**Integration:**\n",
        "\n",
        "- Input: Strategies from game theory and updated data on fire and blockage probabilities.\n",
        "\n",
        "- Output: Probabilistic insights and recommendations to adjust strategies based on real-time data.\n",
        "\n",
        "- Next Step: Feedback loop to Task 2 (ACO) for continuous path and strategy adjustments."
      ]
    },
    {
      "cell_type": "markdown",
      "id": "d7383378",
      "metadata": {
        "id": "d7383378"
      },
      "source": [
        "## Task 1: Ant Colony Optimization (ACO) for Multi-Agent Coordination"
      ]
    },
    {
      "cell_type": "markdown",
      "id": "f49ceecd",
      "metadata": {
        "id": "f49ceecd"
      },
      "source": [
        "#### Step 1: Define Parameters and Initial Setup\n",
        "The initial step involves defining key parameters for the ACO algorithm, such as the influence of pheromone and heuristic values, evaporation rate, and the number of agents. Additionally, we need to set up the initial data for the regions, distances, and damage levels.\n"
      ]
    },
    {
      "cell_type": "code",
      "execution_count": null,
      "id": "3c03ae19",
      "metadata": {
        "id": "3c03ae19"
      },
      "outputs": [],
      "source": [
        "# Required Libraries\n",
        "import numpy as np\n",
        "import random\n",
        "\n",
        "# Parameters\n",
        "alpha = 1      # Influence of pheromone\n",
        "beta = 2       # Influence of heuristic value\n",
        "evaporation_rate = 0.5  # Pheromone evaporation rate\n",
        "pheromone_deposit = 10  # Amount of pheromone deposited after an agent completes a path\n",
        "num_iterations = 50     # Number of iterations to simulate\n",
        "num_agents = 8          # Number of agents (fire trucks/police units)\n",
        "\n",
        "# Initial Data Setup\n",
        "regions = ['R1', 'R2', 'R3', 'R4', 'R5']\n",
        "distances = {\n",
        "    ('R1', 'R2'): 5, ('R2', 'R1'): 5,\n",
        "    ('R1', 'R3'): 7, ('R3', 'R1'): 7,\n",
        "    ('R1', 'R4'): 4, ('R4', 'R1'): 4,\n",
        "    ('R1', 'R5'): 6, ('R5', 'R1'): 6,\n",
        "    ('R2', 'R3'): 3, ('R3', 'R2'): 3,\n",
        "    ('R2', 'R4'): 4, ('R4', 'R2'): 4,\n",
        "    ('R2', 'R5'): 8, ('R5', 'R2'): 8,\n",
        "    ('R3', 'R4'): 5, ('R4', 'R3'): 5,\n",
        "    ('R3', 'R5'): 6, ('R5', 'R3'): 6,\n",
        "    ('R4', 'R5'): 4, ('R5', 'R4'): 4\n",
        "}\n",
        "\n",
        "damage_levels = {'R1': (60, 35), 'R2': (40, 25), 'R3': (15, 5), 'R4': (35, 30), 'R5': (5, 3)}\n",
        "pheromones = {edge: 1 for edge in distances}  # Initial pheromone levels"
      ]
    },
    {
      "cell_type": "markdown",
      "source": [
        "#### Step 2: Implement the `evaporate_pheromones` Function\n",
        "This function simulates the evaporation process by reducing the pheromone levels on all paths after each iteration.\n"
      ],
      "metadata": {
        "id": "JgvyoecEmu3J"
      },
      "id": "JgvyoecEmu3J"
    },
    {
      "cell_type": "code",
      "source": [
        "def evaporate_pheromones():\n",
        "    # Apply evaporation to all pheromone levels.\n",
        "    for edge in pheromones:\n",
        "        pheromones[edge] *= (1 - evaporation_rate)"
      ],
      "metadata": {
        "id": "XIGBk0vvm3DR"
      },
      "id": "XIGBk0vvm3DR",
      "execution_count": null,
      "outputs": []
    },
    {
      "cell_type": "markdown",
      "source": [
        "#### Step 3: Implement the `deposit_pheromones` Function\n",
        "The `deposit_pheromones` function deposits pheromones along the path taken by an agent to reinforce the chosen paths and guide future agents.\n"
      ],
      "metadata": {
        "id": "k033YOvxnGxq"
      },
      "id": "k033YOvxnGxq"
    },
    {
      "cell_type": "code",
      "source": [
        "def deposit_pheromones(path):\n",
        "    # Deposit pheromones along a path.\n",
        "    for i in range(len(path) - 1):\n",
        "        edge = (path[i], path[i + 1])\n",
        "        if edge in pheromones:\n",
        "            pheromones[edge] += pheromone_deposit"
      ],
      "metadata": {
        "id": "IswZta-BnjR9"
      },
      "id": "IswZta-BnjR9",
      "execution_count": null,
      "outputs": []
    },
    {
      "cell_type": "markdown",
      "source": [
        "#### Step 4: Implement the `edge_travel_time` Function\n",
        "This function calculates the travel time between two regions, taking into account the average road blockage. The effective travel speed is adjusted based on this blockage.\n"
      ],
      "metadata": {
        "id": "aqPDRKgtmc6E"
      },
      "id": "aqPDRKgtmc6E"
    },
    {
      "cell_type": "code",
      "source": [
        "# Initialize cache for travel times\n",
        "travel_time_cache = {}\n",
        "\n",
        "def edge_travel_time(region1, region2):\n",
        "    # Calculate travel time between two regions, considering average road blockage.\n",
        "    if region1 == region2:\n",
        "        return 0  # No travel time needed if the regions are the same\n",
        "\n",
        "    # Check if the result is already cached\n",
        "    if (region1, region2) in travel_time_cache:\n",
        "        return travel_time_cache[(region1, region2)]\n",
        "    if (region2, region1) in travel_time_cache:  # Also check the reverse pair\n",
        "        return travel_time_cache[(region2, region1)]\n",
        "\n",
        "    # Calculate average blockage between the two regions\n",
        "    avg_blockage = (damage_levels[region1][0] + damage_levels[region2][0]) / 2\n",
        "    effective_speed = 60 * (1 - avg_blockage / 100)  # Speed in km/h adjusted for blockage\n",
        "\n",
        "    # Ensure distances are defined for the region pair\n",
        "    if (region1, region2) not in distances and (region2, region1) not in distances:\n",
        "        raise ValueError(f\"Distance between {region1} and {region2} is not defined.\")\n",
        "\n",
        "    # Get the distance (handle both directions)\n",
        "    distance = distances.get((region1, region2), distances.get((region2, region1)))\n",
        "\n",
        "    # Calculate travel time in minutes\n",
        "    travel_time = distance / (effective_speed / 60)  # Convert km/h to km/min\n",
        "\n",
        "    # Cache the result\n",
        "    travel_time_cache[(region1, region2)] = travel_time\n",
        "    travel_time_cache[(region2, region1)] = travel_time  # Cache both directions\n",
        "\n",
        "    return travel_time\n"
      ],
      "metadata": {
        "id": "Pia7c9t3mfS3"
      },
      "id": "Pia7c9t3mfS3",
      "execution_count": null,
      "outputs": []
    },
    {
      "cell_type": "markdown",
      "source": [
        "#### Step 5: Implement the `choose_next_region` Function\n",
        "This function determines the next region for an agent based on a weighted probability calculation that incorporates pheromone levels and heuristic values.\n"
      ],
      "metadata": {
        "id": "3IWnjqOWnqtL"
      },
      "id": "3IWnjqOWnqtL"
    },
    {
      "cell_type": "code",
      "source": [
        "def choose_next_region(current_region, visited):\n",
        "    # Choose the next region based on the probability function.\n",
        "    probabilities = []\n",
        "    total_sum = 0\n",
        "\n",
        "    for region in regions:\n",
        "        if region != current_region and region not in visited:\n",
        "            edge = (current_region, region) if (current_region, region) in pheromones else (region, current_region)\n",
        "            pheromone_level = pheromones[edge]\n",
        "            heuristic_value = 1 / edge_travel_time(current_region, region)\n",
        "            probability = (pheromone_level ** alpha) * (heuristic_value ** beta)\n",
        "            probabilities.append((region, probability))\n",
        "            total_sum += probability\n",
        "\n",
        "    # Normalize probabilities\n",
        "    probabilities = [(region, prob / total_sum) for region, prob in probabilities]\n",
        "\n",
        "    # Choose next region based on weighted probability\n",
        "    next_region = random.choices(\n",
        "        [region for region, _ in probabilities],\n",
        "        [prob for _, prob in probabilities]\n",
        "    )[0]\n",
        "\n",
        "    return next_region"
      ],
      "metadata": {
        "id": "wYUT46Djnwj3"
      },
      "id": "wYUT46Djnwj3",
      "execution_count": null,
      "outputs": []
    },
    {
      "cell_type": "markdown",
      "source": [
        "#### Step 6: Implement the `simulate_agent_path` Function\n",
        "This function simulates the path that an agent takes from its starting region, choosing new regions until all are visited and then returning to the start.\n"
      ],
      "metadata": {
        "id": "C7BRkPHaoJ2B"
      },
      "id": "C7BRkPHaoJ2B"
    },
    {
      "cell_type": "code",
      "source": [
        "def simulate_agent_path(start_region, pheromone_levels, exploration_factor):\n",
        "    path = [start_region]\n",
        "    current_region = start_region\n",
        "    while len(path) < len(damage_levels):\n",
        "        if random.random() < exploration_factor:\n",
        "            next_region = random.choice([region for region in damage_levels if region not in path])\n",
        "        else:\n",
        "            next_region = choose_next_region(current_region, pheromone_levels)\n",
        "        path.append(next_region)\n",
        "        current_region = next_region\n",
        "    path.append(start_region)  # Return to the starting point\n",
        "    return path\n",
        "\n",
        "# Define start_region and num_agents\n",
        "start_region = 'R1'  # Replace with the appropriate starting region\n",
        "num_agents = 5       # Set the number of agents"
      ],
      "metadata": {
        "id": "1WLehN5KoLkd"
      },
      "id": "1WLehN5KoLkd",
      "execution_count": null,
      "outputs": []
    },
    {
      "cell_type": "markdown",
      "id": "84bcfc23",
      "metadata": {
        "id": "84bcfc23"
      },
      "source": [
        "## Task 2: Genetic Algorithms for Path Optimization"
      ]
    },
    {
      "cell_type": "markdown",
      "source": [
        "#### Step 1: Implement the `generate_initial_population` Function\n",
        "The first step is to create an initial population of potential paths. Each path is a sequence of regions that an agent might follow, starting and ending at a fixed starting location.\n"
      ],
      "metadata": {
        "id": "j-Ck9yOfp3Ai"
      },
      "id": "j-Ck9yOfp3Ai"
    },
    {
      "cell_type": "code",
      "source": [
        "def generate_initial_population(size, regions):\n",
        "    # Generate an initial population of paths.\n",
        "    population = []\n",
        "    for _ in range(size):\n",
        "        path = [regions[0]] + random.sample(regions[1:], len(regions) - 1) + [regions[0]]\n",
        "        population.append(path)\n",
        "    return population\n",
        "\n",
        "# Example usage:\n",
        "initial_population = generate_initial_population(5, regions)"
      ],
      "metadata": {
        "id": "dpNwNvaOp4dC"
      },
      "id": "dpNwNvaOp4dC",
      "execution_count": null,
      "outputs": []
    },
    {
      "cell_type": "markdown",
      "source": [
        "#### Step 2: Implement the `fitness_function`\n",
        "The fitness function evaluates each path based on the total travel time. A lower travel time indicates a higher fitness level.\n"
      ],
      "metadata": {
        "id": "Ulv52M6vqdWm"
      },
      "id": "Ulv52M6vqdWm"
    },
    {
      "cell_type": "code",
      "source": [
        "def fitness_function(path):\n",
        "    # Calculate the fitness of a path based on total travel time.\n",
        "    total_time = 0\n",
        "    for i in range(len(path) - 1):\n",
        "        total_time += edge_travel_time(path[i], path[i + 1])\n",
        "    return 1 / total_time  # Inverse of time to represent fitness"
      ],
      "metadata": {
        "id": "nEYMI5XEqhbG"
      },
      "id": "nEYMI5XEqhbG",
      "execution_count": null,
      "outputs": []
    },
    {
      "cell_type": "markdown",
      "source": [
        "#### Step 3: Implement the `selection` Function\n",
        "The selection function chooses parents for crossover based on their fitness, favoring paths with higher fitness values.\n"
      ],
      "metadata": {
        "id": "diey_8tPqqs5"
      },
      "id": "diey_8tPqqs5"
    },
    {
      "cell_type": "code",
      "source": [
        "def selection(population, fitness_scores):\n",
        "    # Select two parents using a weighted random choice based on fitness scores.\n",
        "    total_fitness = sum(fitness_scores)\n",
        "    probabilities = [score / total_fitness for score in fitness_scores]\n",
        "    parents = random.choices(population, weights=probabilities, k=2)\n",
        "    return parents"
      ],
      "metadata": {
        "id": "Tzbp8XB-qqHq"
      },
      "id": "Tzbp8XB-qqHq",
      "execution_count": null,
      "outputs": []
    },
    {
      "cell_type": "markdown",
      "source": [
        "#### Step 4: Implement the `crossover` Function\n",
        "The crossover function combines two parent paths to create a new offspring path, ensuring the offspring inherits characteristics from both parents.\n"
      ],
      "metadata": {
        "id": "PoOuPmnJsHAb"
      },
      "id": "PoOuPmnJsHAb"
    },
    {
      "cell_type": "code",
      "source": [
        "def crossover(parent1, parent2):\n",
        "    # Create an offspring path by combining two parent paths.\n",
        "    start = 1\n",
        "    end = random.randint(1, len(parent1) - 2)\n",
        "    child = parent1[:start] + [gene for gene in parent2 if gene not in parent1[:start]]\n",
        "\n",
        "    # Ensure all regions are included exactly once\n",
        "    missing_regions = set(parent1) - set(child)\n",
        "    child.extend(missing_regions)\n",
        "\n",
        "    return child"
      ],
      "metadata": {
        "id": "ZfwI-OyhsIs7"
      },
      "id": "ZfwI-OyhsIs7",
      "execution_count": null,
      "outputs": []
    },
    {
      "cell_type": "markdown",
      "source": [
        "#### Step 5: Implement the `exchange` Function\n",
        "The exchange function swaps the positions of two regions in a path to introduce variation and explore different solutions.\n"
      ],
      "metadata": {
        "id": "Nsz7pITOsO4P"
      },
      "id": "Nsz7pITOsO4P"
    },
    {
      "cell_type": "code",
      "source": [
        "def exchange(path):\n",
        "    # Perform an exchange operation on a path.\n",
        "    idx1, idx2 = random.sample(range(1, len(path) - 1), 2)\n",
        "    path[idx1], path[idx2] = path[idx2], path[idx1]\n",
        "    return path"
      ],
      "metadata": {
        "id": "Fx12v6Q7sSzg"
      },
      "id": "Fx12v6Q7sSzg",
      "execution_count": null,
      "outputs": []
    },
    {
      "cell_type": "markdown",
      "source": [
        "#### Step 6: Implement the `successor` Function\n",
        "The successor function generates a new population by applying the exchange operation to paths in the current generation.\n"
      ],
      "metadata": {
        "id": "sVyWg1jysj4s"
      },
      "id": "sVyWg1jysj4s"
    },
    {
      "cell_type": "code",
      "source": [
        "def successor(population):\n",
        "    # Generate a new population by applying the exchange operation.\n",
        "    new_population = [exchange(path[:]) for path in population]\n",
        "    return new_population"
      ],
      "metadata": {
        "id": "f3eZqjgbsldp"
      },
      "id": "f3eZqjgbsldp",
      "execution_count": null,
      "outputs": []
    },
    {
      "cell_type": "markdown",
      "source": [
        "#### Step 7: Implement the `genetic_algorithm` Function\n",
        "The main genetic algorithm function iterates through generations, applying selection, crossover, and exchange to evolve paths with higher fitness. To ensure that the best path found by the algorithm starts and ends at the designated starting region, we include a final check. If the last region in the best path is not the starting region, we append it to complete the round trip. This guarantees that the path maintains the required structure for the problem.\n",
        "\n"
      ],
      "metadata": {
        "id": "Zh9-oRMYssHT"
      },
      "id": "Zh9-oRMYssHT"
    },
    {
      "cell_type": "code",
      "source": [
        "def genetic_algorithm(initial_population, generations):\n",
        "    # Run the genetic algorithm for path optimization.\n",
        "    population = initial_population\n",
        "    for generation in range(generations):\n",
        "        fitness_scores = [fitness_function(path) for path in population]\n",
        "        new_population = []\n",
        "\n",
        "        while len(new_population) < len(population):\n",
        "            parent1, parent2 = selection(population, fitness_scores)\n",
        "            child = crossover(parent1, parent2)\n",
        "            child = exchange(child)\n",
        "            new_population.append(child)\n",
        "\n",
        "        population = successor(new_population)\n",
        "\n",
        "    # Return the best path based on fitness\n",
        "    fitness_scores = [fitness_function(path) for path in population]\n",
        "    best_path = population[fitness_scores.index(max(fitness_scores))]\n",
        "\n",
        "        # Ensure the path starts and ends at the starting region\n",
        "    if best_path[-1] != best_path[0]:\n",
        "        best_path.append(best_path[0])\n",
        "\n",
        "    return best_path\n",
        "\n",
        "# Example run:\n",
        "best_path = genetic_algorithm(initial_population, 20)\n",
        "print(\"Best path found:\", best_path)"
      ],
      "metadata": {
        "colab": {
          "base_uri": "https://localhost:8080/"
        },
        "id": "IuAbSPnBsvku",
        "outputId": "b9a75b9b-b2c1-4c1c-94c4-f31d3c9d54a8"
      },
      "id": "IuAbSPnBsvku",
      "execution_count": null,
      "outputs": [
        {
          "output_type": "stream",
          "name": "stdout",
          "text": [
            "Best path found: ['R1', 'R4', 'R5', 'R2', 'R3', 'R1']\n"
          ]
        }
      ]
    },
    {
      "cell_type": "markdown",
      "id": "09ac383f",
      "metadata": {
        "id": "09ac383f"
      },
      "source": [
        "## Task 3: Minmax Algorithm with Alpha-Beta Pruning and Enhancements"
      ]
    },
    {
      "cell_type": "markdown",
      "source": [
        "#### Step 1: Define the Players\n",
        "In this task, the players are defined as follows:\n",
        "- **Max Player**: Represents the rescue agents who aim to maximize resource allocation effectiveness to minimize fire damage and road blockages.\n",
        "- **Min Player**: Represents the opposing force of disaster events (e.g., fires, aftershocks) that worsen the situation.\n",
        "\n",
        "Understanding the roles of Max and Min players helps set up the decision-making process where Max aims to optimize, and Min simulates adverse conditions.\n"
      ],
      "metadata": {
        "id": "MYxUIAu1I8kf"
      },
      "id": "MYxUIAu1I8kf"
    },
    {
      "cell_type": "markdown",
      "source": [
        "#### Step 2: Prepare Data for Game Tree Construction\n",
        "In this step we construct a game tree representing possible allocations of units to regions along a path. The tree alternates between Max and Min nodes to simulate decision-making.\n"
      ],
      "metadata": {
        "id": "Huvj0E9sJRvw"
      },
      "id": "Huvj0E9sJRvw"
    },
    {
      "cell_type": "code",
      "execution_count": null,
      "id": "3f167e83",
      "metadata": {
        "id": "3f167e83"
      },
      "outputs": [],
      "source": [
        "def generate_game_tree(path, total_units):\n",
        "    # Generate a game tree with all possible allocations of units along the path.\n",
        "    game_tree = []\n",
        "\n",
        "    def helper(current_path, remaining_units, current_level):\n",
        "        if current_level == len(path):  # Base case: reached the end of the path\n",
        "            game_tree.append(current_path[:])\n",
        "            return\n",
        "\n",
        "        for units in range(remaining_units, 0, -1):\n",
        "            current_path.append((path[current_level], units))\n",
        "            helper(current_path, remaining_units - units, current_level + 1)\n",
        "            current_path.pop()  # Backtrack\n",
        "\n",
        "    helper([], total_units, 0)\n",
        "    return game_tree\n",
        "\n",
        "# Example usage\n",
        "path = ['R1', 'R4', 'R5', 'R2', 'R3']\n",
        "total_units = 6  # Example total number of units available\n",
        "game_tree = generate_game_tree(path, total_units)"
      ]
    },
    {
      "cell_type": "markdown",
      "source": [
        "#### Step 3: Implement Minmax Algorithm with Alpha-Beta Pruning\n",
        "Next step is to implement the Minmax algorithm with alpha-beta pruning to traverse the game tree, optimizing decisions for the Max player while considering the Min player's responses.\n"
      ],
      "metadata": {
        "id": "asqqlMgeJ_Le"
      },
      "id": "asqqlMgeJ_Le"
    },
    {
      "cell_type": "code",
      "source": [
        "def minmax(node, depth, is_max_player, alpha, beta):\n",
        "    # Minmax algorithm with alpha-beta pruning.\n",
        "    if depth == 0 or is_terminal_node(node):\n",
        "        return evaluate_node(node)  # Return utility value of the node\n",
        "\n",
        "    if is_max_player:\n",
        "        max_eval = float('-inf')\n",
        "        for child in generate_children(node):\n",
        "            eval = minmax(child, depth - 1, False, alpha, beta)\n",
        "            max_eval = max(max_eval, eval)\n",
        "            alpha = max(alpha, eval)\n",
        "            if beta <= alpha:\n",
        "                break  # Beta cut-off\n",
        "        return max_eval\n",
        "    else:\n",
        "        min_eval = float('inf')\n",
        "        for child in generate_children(node):\n",
        "            eval = minmax(child, depth - 1, True, alpha, beta)\n",
        "            min_eval = min(min_eval, eval)\n",
        "            beta = min(beta, eval)\n",
        "            if beta <= alpha:\n",
        "                break  # Alpha cut-off\n",
        "        return min_eval\n"
      ],
      "metadata": {
        "id": "TL8z0nS9JTaT"
      },
      "id": "TL8z0nS9JTaT",
      "execution_count": null,
      "outputs": []
    },
    {
      "cell_type": "markdown",
      "source": [
        "#### Step 4: Implement Supporting Functions"
      ],
      "metadata": {
        "id": "wmRt9qbvMBl2"
      },
      "id": "wmRt9qbvMBl2"
    },
    {
      "cell_type": "markdown",
      "source": [
        "The following functions support the Minmax algorithm by evaluating nodes, checking terminal conditions, and generating children nodes.\n"
      ],
      "metadata": {
        "id": "YFPTjeUFNJ1L"
      },
      "id": "YFPTjeUFNJ1L"
    },
    {
      "cell_type": "code",
      "source": [
        "def is_terminal_node(node):\n",
        "    # Check if a node is a terminal node (end of path).\n",
        "    # Example: Return True if all regions in the path have been allocated resources\n",
        "    allocated_regions = [region for region, _ in node]\n",
        "    return len(allocated_regions) == len(path)\n",
        "\n",
        "def evaluate_node(node):\n",
        "    # Evaluate the utility value of a node.\n",
        "    # Example: Sum the units allocated to regions for simplicity\n",
        "    utility = 0\n",
        "    for region, units in node:\n",
        "        # Example: Add more complex logic to calculate the utility based on units' effectiveness\n",
        "        # For instance, each unit may reduce fire damage by 10%, so add corresponding benefits\n",
        "        utility += units * 10  # Placeholder: Adjust based on actual impact\n",
        "    return utility\n",
        "\n",
        "def generate_children(node):\n",
        "    # Generate child nodes for a given node.\n",
        "    current_level = len(node)\n",
        "    if current_level >= len(path):\n",
        "        return []  # No more children if we are at the end of the path\n",
        "\n",
        "    children = []\n",
        "    remaining_units = total_units - sum(units for _, units in node)\n",
        "    if remaining_units > 0:\n",
        "        for units in range(1, remaining_units + 1):\n",
        "            child = node + [(path[current_level], units)]\n",
        "            children.append(child)\n",
        "    return children"
      ],
      "metadata": {
        "id": "KOA6MMpHMEFt"
      },
      "id": "KOA6MMpHMEFt",
      "execution_count": null,
      "outputs": []
    },
    {
      "cell_type": "markdown",
      "source": [
        "#### Step 5: Execute the Minmax Algorithm\n",
        "lastly, we run the Minmax function on the constructed game tree to find the optimal allocation strategy for the Max player."
      ],
      "metadata": {
        "id": "c6hHWH9uKXvh"
      },
      "id": "c6hHWH9uKXvh"
    },
    {
      "cell_type": "code",
      "source": [
        "best_value = minmax(game_tree[0], depth=3, is_max_player=True, alpha=float('-inf'), beta=float('inf'))\n",
        "print(\"Best allocation strategy value:\", best_value)"
      ],
      "metadata": {
        "colab": {
          "base_uri": "https://localhost:8080/"
        },
        "id": "DVWeTF7wKdQe",
        "outputId": "66429d58-e714-476a-87cc-35d0a9d06185"
      },
      "id": "DVWeTF7wKdQe",
      "execution_count": null,
      "outputs": [
        {
          "output_type": "stream",
          "name": "stdout",
          "text": [
            "Best allocation strategy value: 60\n"
          ]
        }
      ]
    },
    {
      "cell_type": "markdown",
      "source": [
        "### Results and Interpretation\n",
        "The best allocation strategy value obtained is `60`, which indicates the total utility achieved by the optimal allocation of resources. This value represents the sum of the effectiveness of units distributed across regions. If the utility calculation considers the reduction in fire damage or road blockages, this result means that the algorithm successfully found a strategy that maximizes the impact of resource allocation.\n"
      ],
      "metadata": {
        "id": "G6dHaftFNP25"
      },
      "id": "G6dHaftFNP25"
    },
    {
      "cell_type": "markdown",
      "id": "7b0448e2",
      "metadata": {
        "id": "7b0448e2"
      },
      "source": [
        "## Task 4: Game Theory for Multi-Agent Systems"
      ]
    },
    {
      "cell_type": "markdown",
      "source": [
        "#### Step 1: Develop Payoff Matrices\n",
        "To apply game theory in the context of multi-agent systems, we first need to develop payoff matrices that represent the strategies of two players. Each player will have a set of candidate parameter values that they can choose from. The goal is to evaluate these values and determine optimal strategies based on the payoffs.\n"
      ],
      "metadata": {
        "id": "m3UhqhRgPzGs"
      },
      "id": "m3UhqhRgPzGs"
    },
    {
      "cell_type": "code",
      "execution_count": null,
      "id": "b5b0b2eb",
      "metadata": {
        "colab": {
          "base_uri": "https://localhost:8080/"
        },
        "id": "b5b0b2eb",
        "outputId": "c84d3b8d-e05b-4164-cab3-7d2424a1c24a"
      },
      "outputs": [
        {
          "output_type": "stream",
          "name": "stdout",
          "text": [
            "Initialized Payoff Matrix:\n",
            "[0, 0, 0, 0, 0]\n",
            "[0, 0, 0, 0, 0]\n",
            "[0, 0, 0, 0, 0]\n",
            "[0, 0, 0, 0, 0]\n",
            "[0, 0, 0, 0, 0]\n"
          ]
        }
      ],
      "source": [
        "def initialize_payoff_matrix(actions_player1, actions_player2):\n",
        "    # Initialize an all-zero payoff matrix.\n",
        "    payoffs = [[0 for _ in range(len(actions_player1))] for _ in range(len(actions_player2))]\n",
        "    return payoffs\n",
        "\n",
        "# Example actions for two players\n",
        "actions_player1 = [0, 1, 2, 3, 4]  # Example values in steps of 1\n",
        "actions_player2 = [0, 1, 2, 3, 4]  # Example values in steps of 1\n",
        "\n",
        "# Initialize the payoff matrix\n",
        "payoff_matrix = initialize_payoff_matrix(actions_player1, actions_player2)\n",
        "print(\"Initialized Payoff Matrix:\")\n",
        "for row in payoff_matrix:\n",
        "    print(row)"
      ]
    },
    {
      "cell_type": "markdown",
      "source": [
        "#### Step 2: Populate the Payoff Matrix\n",
        "The next step involves calculating the payoffs for each combination of actions by simulating outcomes based on chosen parameter values. The matrix is populated by evaluating the effectiveness of each combination.\n"
      ],
      "metadata": {
        "id": "hIdJ3YlPQPU-"
      },
      "id": "hIdJ3YlPQPU-"
    },
    {
      "cell_type": "code",
      "source": [
        "def evaluate_payoff(action1, action2):\n",
        "    # Compute the payoff for a given combination of actions.\n",
        "    # Placeholder logic for evaluating payoff; replace with actual evaluation logic\n",
        "    return action1 * action2  # Example: simple product of actions for demonstration\n",
        "\n",
        "def populate_payoff_matrix(actions_player1, actions_player2):\n",
        "    # Populate the payoff matrix with calculated payoffs.\n",
        "    payoffs = initialize_payoff_matrix(actions_player1, actions_player2)\n",
        "    for i, action1 in enumerate(actions_player1):\n",
        "        for j, action2 in enumerate(actions_player2):\n",
        "            payoffs[i][j] = evaluate_payoff(action1, action2)\n",
        "    return payoffs\n",
        "\n",
        "# Populate the payoff matrix with payoffs\n",
        "payoff_matrix = populate_payoff_matrix(actions_player1, actions_player2)\n",
        "print(\"Populated Payoff Matrix:\")\n",
        "for row in payoff_matrix:\n",
        "    print(row)"
      ],
      "metadata": {
        "colab": {
          "base_uri": "https://localhost:8080/"
        },
        "id": "NmkVNn0EQRbz",
        "outputId": "e04b68a5-76fd-40b3-d90f-655fccdea1cc"
      },
      "id": "NmkVNn0EQRbz",
      "execution_count": null,
      "outputs": [
        {
          "output_type": "stream",
          "name": "stdout",
          "text": [
            "Populated Payoff Matrix:\n",
            "[0, 0, 0, 0, 0]\n",
            "[0, 1, 2, 3, 4]\n",
            "[0, 2, 4, 6, 8]\n",
            "[0, 3, 6, 9, 12]\n",
            "[0, 4, 8, 12, 16]\n"
          ]
        }
      ]
    },
    {
      "cell_type": "markdown",
      "source": [
        "#### Step 3: Determine Optimal Strategies\n",
        "With the payoff matrix populated, we can now analyze it to determine optimal strategies for the players. This can involve finding the Nash equilibrium or evaluating dominant strategies.\n"
      ],
      "metadata": {
        "id": "Mt9PYYo7QraP"
      },
      "id": "Mt9PYYo7QraP"
    },
    {
      "cell_type": "code",
      "source": [
        "def find_nash_equilibrium(payoff_matrix):\n",
        "    # Identify the Nash equilibrium in the payoff matrix.\n",
        "    nash_equilibria = []\n",
        "    for i in range(len(payoff_matrix)):\n",
        "        for j in range(len(payoff_matrix[i])):\n",
        "            row_max = max(payoff_matrix[i])\n",
        "            col_max = max(row[j] for row in payoff_matrix)\n",
        "            if payoff_matrix[i][j] == row_max and payoff_matrix[i][j] == col_max:\n",
        "                nash_equilibria.append((i, j))\n",
        "    return nash_equilibria\n",
        "\n",
        "# Find Nash equilibria in the payoff matrix\n",
        "nash_equilibria = find_nash_equilibrium(payoff_matrix)\n",
        "print(\"Nash Equilibria:\", nash_equilibria)"
      ],
      "metadata": {
        "colab": {
          "base_uri": "https://localhost:8080/"
        },
        "id": "oarAgl7MQtJA",
        "outputId": "4960fbae-ec32-49a8-ef5a-32711ba93f1d"
      },
      "id": "oarAgl7MQtJA",
      "execution_count": null,
      "outputs": [
        {
          "output_type": "stream",
          "name": "stdout",
          "text": [
            "Nash Equilibria: [(0, 0), (4, 4)]\n"
          ]
        }
      ]
    },
    {
      "cell_type": "markdown",
      "source": [
        "### Results and Interpretation\n",
        "The Nash equilibria identified in the payoff matrix are at positions `[(0, 0), (4, 4)]`.\n",
        "\n",
        "1. **(0, 0)**:\n",
        "   - This represents a strategy where both `actions_player1` and `actions_player2` choose their first action (indexed as `0`).\n",
        "   - At this position, neither player can improve their outcome by unilaterally changing their strategy, making it an equilibrium point.\n",
        "\n",
        "2. **(4, 4)**:\n",
        "   - This represents a strategy where both `actions_player1` and `actions_player2` choose their last action (indexed as `4`).\n",
        "   - At this point, neither player has an incentive to deviate, signifying another equilibrium.\n",
        "\n",
        "**Conclusion**:\n",
        "These Nash equilibria indicate that the optimal strategies for both players can be found at the points where neither player benefits from changing their action independently. This analysis helps in identifying the best parameter values for coordination among agents, ensuring balanced strategies that account for potential responses from adversarial events or other agents.\n"
      ],
      "metadata": {
        "id": "hfLLSz0LRImD"
      },
      "id": "hfLLSz0LRImD"
    },
    {
      "cell_type": "markdown",
      "id": "6a42b2d7",
      "metadata": {
        "id": "6a42b2d7"
      },
      "source": [
        "## Task 5: Bayesian Networks for Uncertain Inferences"
      ]
    },
    {
      "cell_type": "markdown",
      "source": [
        "#### Step 1: Identify Variables and Dependencies\n",
        "In a rescue scenario, the Bayesian network needs to represent relevant variables and their dependencies. The key variables to consider might include:\n",
        "- **FireSpread**: Probability of fire spreading to the next region.\n",
        "- **RoadBlockage**: Probability of roads being blocked due to aftershocks.\n",
        "- **RescueSuccess**: Probability of successful rescue operations.\n",
        "- **UnitAllocation**: Number of units assigned to a region.\n",
        "\n",
        "**Dependencies**:\n",
        "- **FireSpread** depends on factors such as current fire levels and weather conditions.\n",
        "- **RoadBlockage** depends on the occurrence of aftershocks.\n",
        "- **RescueSuccess** depends on **UnitAllocation**, **FireSpread**, and **RoadBlockage**.\n"
      ],
      "metadata": {
        "id": "8uLW1Y-cRlcy"
      },
      "id": "8uLW1Y-cRlcy"
    },
    {
      "cell_type": "code",
      "execution_count": null,
      "id": "14d8a942",
      "metadata": {
        "colab": {
          "base_uri": "https://localhost:8080/",
          "height": 521
        },
        "id": "14d8a942",
        "outputId": "e395c359-1f5e-4ff8-9c8c-2e3d39320fbc"
      },
      "outputs": [
        {
          "output_type": "display_data",
          "data": {
            "text/plain": [
              "<Figure size 800x600 with 1 Axes>"
            ],
            "image/png": "[encoded data removed]"
          },
          "metadata": {}
        }
      ],
      "source": [
        "import networkx as nx\n",
        "import matplotlib.pyplot as plt\n",
        "\n",
        "# Define the Bayesian network structure\n",
        "graph = nx.DiGraph()\n",
        "graph.add_edges_from([\n",
        "    (\"FireSpread\", \"RescueSuccess\"),\n",
        "    (\"RoadBlockage\", \"RescueSuccess\"),\n",
        "    (\"UnitAllocation\", \"RescueSuccess\")\n",
        "])\n",
        "\n",
        "# Visualize the Bayesian network structure\n",
        "plt.figure(figsize=(8, 6))\n",
        "nx.draw_networkx(graph, with_labels=True, node_color='lightblue', edge_color='black')\n",
        "plt.title(\"Bayesian Network Structure\")\n",
        "plt.show()"
      ]
    },
    {
      "cell_type": "markdown",
      "source": [
        "#### Step 2: Construct Conditional Probability Tables (CPTs)\n",
        "Constructing CPTs involves defining the conditional probabilities for each node in the network.\n"
      ],
      "metadata": {
        "id": "RX-AICZOSCCr"
      },
      "id": "RX-AICZOSCCr"
    },
    {
      "cell_type": "code",
      "source": [
        "import pandas as pd\n",
        "from pgmpy.factors.discrete import TabularCPD\n",
        "\n",
        "# Example CPTs for the Bayesian network\n",
        "cpt_fire_spread = TabularCPD(\n",
        "    variable='FireSpread',\n",
        "    variable_card=2,\n",
        "    values=[[0.7], [0.3]]  # Probabilities for 'Low' and 'High'\n",
        ")\n",
        "\n",
        "cpt_road_blockage = TabularCPD(\n",
        "    variable='RoadBlockage',\n",
        "    variable_card=2,\n",
        "    values=[[0.8], [0.2]]  # Probabilities for 'No' and 'Yes'\n",
        ")\n",
        "\n",
        "cpt_unit_allocation = TabularCPD(\n",
        "    variable='UnitAllocation',\n",
        "    variable_card=2,\n",
        "    values=[[0.5], [0.5]]  # Probabilities for 'Low' and 'High'\n",
        ")\n",
        "\n",
        "cpt_rescue_success = TabularCPD(\n",
        "    variable='RescueSuccess',\n",
        "    variable_card=2,\n",
        "    values=[\n",
        "        [0.9, 0.6, 0.8, 0.5, 0.7, 0.4, 0.6, 0.3],  # Probability of success\n",
        "        [0.1, 0.4, 0.2, 0.5, 0.3, 0.6, 0.4, 0.7]   # Probability of failure (1 - success)\n",
        "    ],\n",
        "    evidence=['UnitAllocation', 'FireSpread', 'RoadBlockage'],\n",
        "    evidence_card=[2, 2, 2]  # Cardinalities of evidence variables\n",
        ")\n",
        "\n",
        "# Display CPTs\n",
        "print(\"CPT for Fire Spread:\")\n",
        "print(cpt_fire_spread)\n",
        "print(\"\\nCPT for Road Blockage:\")\n",
        "print(cpt_road_blockage)\n",
        "print(\"\\nCPT for Rescue Success:\")\n",
        "print(cpt_rescue_success)"
      ],
      "metadata": {
        "colab": {
          "base_uri": "https://localhost:8080/"
        },
        "id": "RSzZZCXtSDqh",
        "outputId": "7f5c1ecc-8454-4898-c8b9-3b3fab1a39e7"
      },
      "id": "RSzZZCXtSDqh",
      "execution_count": null,
      "outputs": [
        {
          "output_type": "stream",
          "name": "stdout",
          "text": [
            "CPT for Fire Spread:\n",
            "+---------------+-----+\n",
            "| FireSpread(0) | 0.7 |\n",
            "+---------------+-----+\n",
            "| FireSpread(1) | 0.3 |\n",
            "+---------------+-----+\n",
            "\n",
            "CPT for Road Blockage:\n",
            "+-----------------+-----+\n",
            "| RoadBlockage(0) | 0.8 |\n",
            "+-----------------+-----+\n",
            "| RoadBlockage(1) | 0.2 |\n",
            "+-----------------+-----+\n",
            "\n",
            "CPT for Rescue Success:\n",
            "+------------------+-------------------+-----+-------------------+-------------------+\n",
            "| UnitAllocation   | UnitAllocation(0) | ... | UnitAllocation(1) | UnitAllocation(1) |\n",
            "+------------------+-------------------+-----+-------------------+-------------------+\n",
            "| FireSpread       | FireSpread(0)     | ... | FireSpread(1)     | FireSpread(1)     |\n",
            "+------------------+-------------------+-----+-------------------+-------------------+\n",
            "| RoadBlockage     | RoadBlockage(0)   | ... | RoadBlockage(0)   | RoadBlockage(1)   |\n",
            "+------------------+-------------------+-----+-------------------+-------------------+\n",
            "| RescueSuccess(0) | 0.9               | ... | 0.6               | 0.3               |\n",
            "+------------------+-------------------+-----+-------------------+-------------------+\n",
            "| RescueSuccess(1) | 0.1               | ... | 0.4               | 0.7               |\n",
            "+------------------+-------------------+-----+-------------------+-------------------+\n"
          ]
        }
      ]
    },
    {
      "cell_type": "markdown",
      "source": [
        "**Result**:\n",
        "The CPTs were successfully created and displayed, showing the conditional probabilities for each variable."
      ],
      "metadata": {
        "id": "ASgoJkUIV691"
      },
      "id": "ASgoJkUIV691"
    },
    {
      "cell_type": "markdown",
      "source": [
        "#### Step 3: Make Inferences Using the Bayesian Network\n",
        "Use the Bayesian network to infer the probability of successful rescues given certain conditions. This inference will contribute to optimizing rescue operations by assessing risks and planning accordingly.\n"
      ],
      "metadata": {
        "id": "Uz9vIEkfSmLB"
      },
      "id": "Uz9vIEkfSmLB"
    },
    {
      "cell_type": "code",
      "source": [
        "from pgmpy.models import BayesianNetwork\n",
        "from pgmpy.inference import VariableElimination\n",
        "\n",
        "# Define the Bayesian network model\n",
        "model = BayesianNetwork([(\"FireSpread\", \"RescueSuccess\"), (\"RoadBlockage\", \"RescueSuccess\"), (\"UnitAllocation\", \"RescueSuccess\")])\n",
        "\n",
        "# Add CPDs to the model\n",
        "model.add_cpds(cpd_fire_spread, cpd_road_blockage, cpd_unit_allocation, cpd_rescue_success)\n",
        "\n",
        "# Check if the model is valid\n",
        "assert model.check_model(), \"The model is not valid!\"\n",
        "\n",
        "# Perform inference\n",
        "inference = VariableElimination(model)\n",
        "result = inference.query(variables=['RescueSuccess'], evidence={'FireSpread': 1, 'RoadBlockage': 0})\n",
        "print(\"\\nInference Result:\")\n",
        "print(result)"
      ],
      "metadata": {
        "colab": {
          "base_uri": "https://localhost:8080/"
        },
        "id": "n1T3eBLeSoXe",
        "outputId": "fb56f658-a48b-447a-e56f-91f43c064cba"
      },
      "id": "n1T3eBLeSoXe",
      "execution_count": null,
      "outputs": [
        {
          "output_type": "stream",
          "name": "stdout",
          "text": [
            "\n",
            "Inference Result:\n",
            "+------------------+----------------------+\n",
            "| RescueSuccess    |   phi(RescueSuccess) |\n",
            "+==================+======================+\n",
            "| RescueSuccess(0) |               0.7000 |\n",
            "+------------------+----------------------+\n",
            "| RescueSuccess(1) |               0.3000 |\n",
            "+------------------+----------------------+\n"
          ]
        }
      ]
    },
    {
      "cell_type": "markdown",
      "source": [
        "### Results and Interpretation\n",
        "**Report**:\n",
        "- The inference result shows that:\n",
        "  - **`RescueSuccess(0)`**: The probability of an unsuccessful rescue is 70% (`0.700`).\n",
        "  - **`RescueSuccess(1)`**: The probability of a successful rescue is 30% (`0.300`).\n",
        "\n",
        "**Conclusion**:\n",
        "These probabilities indicate that under the given conditions (`FireSpread` being high and `RoadBlockage` being absent), the likelihood of a successful rescue is relatively low (30%). This suggests that high fire spread significantly impacts the success rate of rescue operations. Understanding these probabilities helps in making more informed decisions regarding resource allocation and planning for rescue operations.\n"
      ],
      "metadata": {
        "id": "EyA8O_TKVfNO"
      },
      "id": "EyA8O_TKVfNO"
    },
    {
      "cell_type": "markdown",
      "id": "184c5e07",
      "metadata": {
        "id": "184c5e07"
      },
      "source": [
        "# Overall Running"
      ]
    },
    {
      "cell_type": "markdown",
      "id": "a6697bf4",
      "metadata": {
        "id": "a6697bf4"
      },
      "source": [
        "You need to provide the overall rescure results by code running based on your overall design and breakdown task designs. It is preferred to put `functions` in the breakdown task above and execute them in the overall running here.  "
      ]
    },
    {
      "cell_type": "markdown",
      "source": [
        "### Step 1: Run Genetic Algorithm for Path Optimization\n"
      ],
      "metadata": {
        "id": "Nm2CKS_fWb39"
      },
      "id": "Nm2CKS_fWb39"
    },
    {
      "cell_type": "code",
      "execution_count": null,
      "id": "981c1a88",
      "metadata": {
        "colab": {
          "base_uri": "https://localhost:8080/"
        },
        "id": "981c1a88",
        "outputId": "ac360580-d92e-4dcc-a0bb-4b45d2887010"
      },
      "outputs": [
        {
          "output_type": "stream",
          "name": "stdout",
          "text": [
            "Best path found by Genetic Algorithm: ['R1', 'R4', 'R5', 'R2', 'R3', 'R1']\n"
          ]
        }
      ],
      "source": [
        "best_path = genetic_algorithm(initial_population, 20)\n",
        "print(\"Best path found by Genetic Algorithm:\", best_path)"
      ]
    },
    {
      "cell_type": "markdown",
      "source": [
        "### Step 2: Simulate Multi-Agent Coordination with Ant Colony Optimization\n"
      ],
      "metadata": {
        "id": "q7e7G0FFWl-x"
      },
      "id": "q7e7G0FFWl-x"
    },
    {
      "cell_type": "code",
      "source": [
        "def simulate_aco_for_rescue(start_region, num_agents):\n",
        "    # Initial setup of pheromone levels, agents, and paths\n",
        "    pheromone_levels = {edge: 1.0 for edge in distances.keys()}  # Initialize pheromone levels\n",
        "    agents_paths = []\n",
        "    exploration_factor = 0.3  # Factor to introduce randomness for exploration\n",
        "\n",
        "    # Simulate agent path selection and pheromone updates\n",
        "    for agent in range(num_agents):\n",
        "        path = simulate_agent_path(start_region, pheromone_levels, exploration_factor)\n",
        "        agents_paths.append(path)\n",
        "        deposit_pheromones(path)\n",
        "        evaporate_pheromones()\n",
        "\n",
        "    return agents_paths\n",
        "\n",
        "# Example run of the ACO algorithm\n",
        "aco_result = simulate_aco_for_rescue(start_region, num_agents)\n",
        "print(\"ACO Coordination Result:\", aco_result)\n"
      ],
      "metadata": {
        "colab": {
          "base_uri": "https://localhost:8080/"
        },
        "id": "X62LJeh7Wmpm",
        "outputId": "c4b97783-98c4-499f-d118-bf74ef21bf99"
      },
      "id": "X62LJeh7Wmpm",
      "execution_count": null,
      "outputs": [
        {
          "output_type": "stream",
          "name": "stdout",
          "text": [
            "ACO Coordination Result: [['R1', 'R5', 'R3', 'R2', 'R4', 'R1'], ['R1', 'R5', 'R4', 'R3', 'R2', 'R1'], ['R1', 'R5', 'R4', 'R3', 'R2', 'R1'], ['R1', 'R5', 'R4', 'R3', 'R2', 'R1'], ['R1', 'R5', 'R4', 'R3', 'R2', 'R1']]\n"
          ]
        }
      ]
    },
    {
      "cell_type": "markdown",
      "source": [
        "### Step 3: Apply the Minmax Algorithm with Alpha-Beta Pruning"
      ],
      "metadata": {
        "id": "AkSRWUPTWujm"
      },
      "id": "AkSRWUPTWujm"
    },
    {
      "cell_type": "code",
      "source": [
        "optimal_strategy_value = minmax(game_tree[0], depth=3, is_max_player=True, alpha=float('-inf'), beta=float('inf'))\n",
        "print(\"Best allocation strategy value from Minmax Algorithm:\", optimal_strategy_value)"
      ],
      "metadata": {
        "colab": {
          "base_uri": "https://localhost:8080/"
        },
        "id": "TeoLk3Z4WvDu",
        "outputId": "7dcb73c8-da21-4d52-b528-4c8e2c49a0a4"
      },
      "id": "TeoLk3Z4WvDu",
      "execution_count": null,
      "outputs": [
        {
          "output_type": "stream",
          "name": "stdout",
          "text": [
            "Best allocation strategy value from Minmax Algorithm: 60\n"
          ]
        }
      ]
    },
    {
      "cell_type": "markdown",
      "source": [
        "### Step 4: Use Game Theory to Identify Optimal Strategies"
      ],
      "metadata": {
        "id": "jcFhG09QfPFD"
      },
      "id": "jcFhG09QfPFD"
    },
    {
      "cell_type": "code",
      "source": [
        "nash_equilibria = find_nash_equilibrium(payoff_matrix)\n",
        "print(\"Nash Equilibria found:\", nash_equilibria)"
      ],
      "metadata": {
        "colab": {
          "base_uri": "https://localhost:8080/"
        },
        "id": "VvAFZaunfPmA",
        "outputId": "ce81dde9-3de4-4c83-845f-3f055939c51f"
      },
      "id": "VvAFZaunfPmA",
      "execution_count": null,
      "outputs": [
        {
          "output_type": "stream",
          "name": "stdout",
          "text": [
            "Nash Equilibria found: [(0, 0), (4, 4)]\n"
          ]
        }
      ]
    },
    {
      "cell_type": "markdown",
      "source": [
        "### Step 5: Integrate Bayesian Network for Uncertain Inferences"
      ],
      "metadata": {
        "id": "57_3hiA_fUfR"
      },
      "id": "57_3hiA_fUfR"
    },
    {
      "cell_type": "code",
      "source": [
        "# Define the Bayesian network model\n",
        "model = BayesianNetwork([(\"FireSpread\", \"RescueSuccess\"), (\"RoadBlockage\", \"RescueSuccess\"), (\"UnitAllocation\", \"RescueSuccess\")])\n",
        "\n",
        "# Add CPDs to the model\n",
        "model.add_cpds(cpd_fire_spread, cpd_road_blockage, cpd_unit_allocation, cpd_rescue_success)\n",
        "\n",
        "# Check if the model is valid\n",
        "assert model.check_model(), \"The model is not valid!\"\n",
        "\n",
        "# Perform inference\n",
        "inference = VariableElimination(model)\n",
        "result = inference.query(variables=['RescueSuccess'], evidence={'FireSpread': 1, 'RoadBlockage': 0})\n",
        "\n",
        "print(\"\\nOverall Inference Result for Rescue Success:\")\n",
        "print(result)"
      ],
      "metadata": {
        "colab": {
          "base_uri": "https://localhost:8080/"
        },
        "id": "II3spEDffVBH",
        "outputId": "7b672b04-edd9-468e-e258-899af353c41a"
      },
      "id": "II3spEDffVBH",
      "execution_count": null,
      "outputs": [
        {
          "output_type": "stream",
          "name": "stdout",
          "text": [
            "\n",
            "Overall Inference Result for Rescue Success:\n",
            "+------------------+----------------------+\n",
            "| RescueSuccess    |   phi(RescueSuccess) |\n",
            "+==================+======================+\n",
            "| RescueSuccess(0) |               0.7000 |\n",
            "+------------------+----------------------+\n",
            "| RescueSuccess(1) |               0.3000 |\n",
            "+------------------+----------------------+\n"
          ]
        }
      ]
    },
    {
      "cell_type": "markdown",
      "id": "7b121817",
      "metadata": {
        "id": "7b121817"
      },
      "source": [
        "# Conclustion and Discussion"
      ]
    },
    {
      "cell_type": "markdown",
      "id": "09b42ef6",
      "metadata": {
        "id": "09b42ef6"
      },
      "source": [
        "The overall running integrates all tasks to form a coherent rescue strategy that optimizes paths, coordinates agents, allocates resources efficiently, and evaluates risks using probabilistic reasoning. This approach ensures a comprehensive and adaptive response in disaster scenarios.\n",
        "\n",
        "**Strengths of the Integrated Approach**:\n",
        "- **Holistic Strategy**: By combining different algorithms and methods, the approach provides a balanced mix of deterministic and probabilistic decision-making.\n",
        "- **Scalability**: The modular design allows each component to be adapted or scaled for more complex scenarios.\n",
        "- **Robustness**: The integration of game theory and Bayesian inference adds resilience to the decision-making process by accounting for uncertainties and competitive elements.\n",
        "\n",
        "**Potential Limitations**:\n",
        "- **Computational Complexity**: Running multiple sophisticated algorithms in sequence or in parallel may increase the computational load and runtime.\n",
        "- **Parameter Tuning**: The effectiveness of some methods, like the genetic algorithm and ACO, depends on the correct tuning of hyperparameters.\n",
        "- **Real-World Assumptions**: The model’s assumptions may not fully align with the complexities of real-world disaster scenarios.\n",
        "\n",
        "**Areas for Future Improvement**:\n",
        "- **Enhanced Real-Time Adaptability**: Integrating real-time data feeds to adjust strategies dynamically during the rescue operations.\n",
        "- **Machine Learning Enhancements**: Using reinforcement learning to improve decision-making over time based on past outcomes.\n",
        "- **Resource Optimization**: Further refinement of resource allocation strategies using multi-objective optimization techniques.\n",
        "\n",
        "These improvements could make the approach even more effective and applicable to broader use cases in disaster management and emergency response.\n"
      ]
    }
  ],
  "metadata": {
    "kernelspec": {
      "display_name": "Python 3 (ipykernel)",
      "language": "python",
      "name": "python3"
    },
    "language_info": {
      "codemirror_mode": {
        "name": "ipython",
        "version": 3
      },
      "file_extension": ".py",
      "mimetype": "text/x-python",
      "name": "python",
      "nbconvert_exporter": "python",
      "pygments_lexer": "ipython3",
      "version": "3.11.4"
    },
    "colab": {
      "provenance": []
    }
  },
  "nbformat": 4,
  "nbformat_minor": 5
}